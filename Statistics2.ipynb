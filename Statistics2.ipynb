{
 "cells": [
  {
   "cell_type": "code",
   "execution_count": 1,
   "id": "1ad64599",
   "metadata": {},
   "outputs": [],
   "source": [
    "import numpy as np"
   ]
  },
  {
   "cell_type": "code",
   "execution_count": 5,
   "id": "e5cdac1e",
   "metadata": {},
   "outputs": [
    {
     "data": {
      "text/plain": [
       "[array([ 0.23969971, -1.62298693, -1.34147426, -0.17831604, -1.06854523,\n",
       "         1.75792092, -1.03473126, -0.75309877, -0.08508525,  0.7089899 ]),\n",
       " array([ 1.11054554, -1.06196382, -0.68481263,  0.33568193, -1.8658846 ,\n",
       "         0.44116643, -0.58531696, -1.10693728, -1.04782453, -0.15446181]),\n",
       " array([ 0.21629375, -0.07112896,  0.63916257, -0.58957455,  0.13293744,\n",
       "         0.23739719,  1.44549291, -1.65599647, -0.14631544, -0.86882865]),\n",
       " array([-1.14978494,  1.49708988,  0.65967588,  1.04160911, -0.31273904,\n",
       "         1.17508155,  0.16727118,  1.31730832,  0.13980406, -0.10715131]),\n",
       " array([ 1.14683739, -0.97899269,  0.46517218,  1.04685971, -0.59302882,\n",
       "        -0.56354755, -0.17713156,  0.31607051,  0.70622179,  0.60859697]),\n",
       " array([ 0.79649256, -2.18708846, -2.10849664,  0.75206259,  1.89845643,\n",
       "         0.62101773,  0.06498175,  1.4931699 , -1.95591035,  1.07910628]),\n",
       " array([-0.0137632 ,  0.65232787,  1.01834502, -0.52029276, -0.12587201,\n",
       "         0.17781231,  0.64727967,  0.74921791,  0.35047338,  0.03300452]),\n",
       " array([-0.2345549 , -1.26844915,  0.96734738, -0.62259333,  0.1579358 ,\n",
       "        -1.32999762,  0.56500179,  1.9274525 , -0.25982985,  0.41966922]),\n",
       " array([-1.41012916, -0.34386673,  0.34193337, -0.46999063, -0.25133826,\n",
       "        -0.19253969, -0.5281063 , -0.59878217, -0.1813292 , -1.20255588]),\n",
       " array([ 0.75463306, -1.21500696,  1.58539981,  0.49474171,  0.71673168,\n",
       "        -0.53763725, -2.17948466, -0.35831897, -0.91896184, -0.64198267])]"
      ]
     },
     "execution_count": 5,
     "metadata": {},
     "output_type": "execute_result"
    }
   ],
   "source": [
    "x = []\n",
    "for i in range(0, 1000, 100):\n",
    "    x.append(np.random.randn(0,1))\n",
    "x"
   ]
  },
  {
   "cell_type": "code",
   "execution_count": 37,
   "id": "9615a8be",
   "metadata": {},
   "outputs": [
    {
     "data": {
      "text/plain": [
       "[0, 0, 0, 0, 1, 1, 1, 1, 0, 0]"
      ]
     },
     "execution_count": 37,
     "metadata": {},
     "output_type": "execute_result"
    }
   ],
   "source": [
    "random_num = []\n",
    "for i in np.random.rand(10):\n",
    "    random_num.append(round(i))\n",
    "random_num"
   ]
  },
  {
   "cell_type": "code",
   "execution_count": 38,
   "id": "5b775fce",
   "metadata": {},
   "outputs": [
    {
     "name": "stdout",
     "output_type": "stream",
     "text": [
      "4 0.4\n"
     ]
    }
   ],
   "source": [
    "count = 0\n",
    "for i in random_num:\n",
    "    if i == 1:\n",
    "        count += 1\n",
    "print(count, count/10)\n",
    "np.mean(random_num)"
   ]
  },
  {
   "cell_type": "code",
   "execution_count": 40,
   "id": "fe3a7a8d",
   "metadata": {},
   "outputs": [
    {
     "data": {
      "text/plain": [
       "0.48989794855663565"
      ]
     },
     "execution_count": 40,
     "metadata": {},
     "output_type": "execute_result"
    }
   ],
   "source": [
    "np.std(random_num)"
   ]
  },
  {
   "cell_type": "code",
   "execution_count": 28,
   "id": "56213cf7",
   "metadata": {},
   "outputs": [],
   "source": [
    "random_num = []\n",
    "for i in np.random.rand(100):\n",
    "    random_num.append(round(i))"
   ]
  },
  {
   "cell_type": "code",
   "execution_count": 29,
   "id": "047f8e1c",
   "metadata": {},
   "outputs": [
    {
     "name": "stdout",
     "output_type": "stream",
     "text": [
      "58 0.58\n"
     ]
    }
   ],
   "source": [
    "count = 0\n",
    "for i in random_num:\n",
    "    if i == 1:\n",
    "        count += 1\n",
    "print(count, count/100)"
   ]
  },
  {
   "cell_type": "code",
   "execution_count": 30,
   "id": "f06ccaad",
   "metadata": {},
   "outputs": [],
   "source": [
    "random_num = []\n",
    "for i in np.random.rand(1000):\n",
    "    random_num.append(round(i))\n"
   ]
  },
  {
   "cell_type": "code",
   "execution_count": 31,
   "id": "9656823a",
   "metadata": {},
   "outputs": [
    {
     "name": "stdout",
     "output_type": "stream",
     "text": [
      "491 0.491\n"
     ]
    }
   ],
   "source": [
    "count = 0\n",
    "for i in random_num:\n",
    "    if i == 1:\n",
    "        count += 1\n",
    "print(count, count/1000)"
   ]
  },
  {
   "cell_type": "code",
   "execution_count": 25,
   "id": "a433aa18",
   "metadata": {},
   "outputs": [
    {
     "name": "stdout",
     "output_type": "stream",
     "text": [
      "50130 0.5013\n"
     ]
    }
   ],
   "source": [
    "random_num = []\n",
    "for i in np.random.rand(100000):\n",
    "    random_num.append(round(i))\n",
    "count = 0\n",
    "for i in random_num:\n",
    "    if i == 1:\n",
    "        count += 1\n",
    "print(count, count/100000)"
   ]
  },
  {
   "cell_type": "markdown",
   "id": "c078b485",
   "metadata": {},
   "source": [
    "As sample size increases; accuracy increases"
   ]
  },
  {
   "cell_type": "code",
   "execution_count": 32,
   "id": "42021348",
   "metadata": {},
   "outputs": [
    {
     "name": "stdout",
     "output_type": "stream",
     "text": [
      "5000391 0.5000391\n"
     ]
    }
   ],
   "source": [
    "random_num = []\n",
    "for i in np.random.rand(10000000):\n",
    "    random_num.append(round(i))\n",
    "count = 0\n",
    "for i in random_num:\n",
    "    if i == 1:\n",
    "        count += 1\n",
    "print(count, count/10000000)"
   ]
  },
  {
   "cell_type": "markdown",
   "id": "a05befe6",
   "metadata": {},
   "source": [
    "### Populations vs Sample"
   ]
  },
  {
   "cell_type": "code",
   "execution_count": 45,
   "id": "a88b18ce",
   "metadata": {},
   "outputs": [],
   "source": [
    "population = np.random.randint(10,20,1000) # start,stop,no_of_numbers"
   ]
  },
  {
   "cell_type": "code",
   "execution_count": 46,
   "id": "ddcb866f",
   "metadata": {},
   "outputs": [
    {
     "data": {
      "text/plain": [
       "array([11, 13, 15, 16, 15, 14, 18, 18, 15, 17, 10, 14, 16, 17, 14, 17, 10,\n",
       "       15, 13, 19, 11, 12, 11, 12, 12, 14, 10, 18, 14, 10, 17, 10, 14, 11,\n",
       "       18, 11, 16, 13, 14, 16, 11, 19, 17, 14, 17, 19, 14, 19, 19, 11, 17,\n",
       "       10, 18, 10, 11, 13, 18, 15, 13, 12, 16, 16, 15, 19, 18, 11, 14, 19,\n",
       "       16, 18, 11, 17, 14, 15, 14, 17, 14, 13, 14, 19, 15, 13, 14, 12, 16,\n",
       "       10, 14, 16, 13, 15, 19, 19, 12, 16, 14, 11, 13, 13, 15, 15, 17, 12,\n",
       "       16, 12, 18, 13, 13, 15, 18, 16, 10, 18, 17, 14, 19, 15, 12, 19, 17,\n",
       "       19, 15, 19, 18, 14, 10, 18, 15, 12, 11, 19, 13, 16, 18, 13, 15, 19,\n",
       "       14, 16, 19, 15, 11, 15, 13, 19, 17, 15, 12, 19, 17, 16, 19, 10, 19,\n",
       "       10, 15, 13, 17, 19, 10, 10, 17, 17, 19, 10, 17, 17, 17, 18, 14, 11,\n",
       "       10, 16, 19, 18, 14, 10, 18, 17, 11, 17, 12, 10, 16, 11, 15, 17, 18,\n",
       "       14, 11, 17, 16, 18, 16, 17, 15, 15, 13, 13, 16, 18, 17, 19, 14, 19,\n",
       "       18, 10, 18, 18, 10, 11, 17, 14, 15, 19, 15, 10, 18, 16, 19, 18, 13,\n",
       "       11, 14, 18, 11, 17, 10, 18, 14, 10, 12, 17, 13, 10, 18, 18, 15, 16,\n",
       "       10, 16, 17, 18, 10, 13, 13, 18, 10, 18, 18, 19, 17, 10, 19, 16, 11,\n",
       "       17, 10, 11, 18, 15, 11, 12, 15, 11, 10, 11, 17, 11, 18, 10, 14, 14,\n",
       "       13, 15, 10, 10, 12, 13, 13, 15, 12, 13, 15, 12, 15, 12, 14, 14, 10,\n",
       "       17, 12, 16, 17, 13, 16, 13, 11, 18, 14, 16, 16, 16, 19, 13, 10, 18,\n",
       "       12, 13, 10, 19, 11, 15, 17, 12, 18, 16, 15, 11, 13, 13, 11, 11, 13,\n",
       "       10, 15, 16, 16, 13, 18, 18, 16, 10, 17, 10, 11, 11, 14, 17, 10, 15,\n",
       "       13, 19, 12, 10, 12, 16, 19, 14, 18, 10, 14, 15, 11, 18, 14, 11, 16,\n",
       "       17, 17, 13, 16, 17, 13, 12, 15, 17, 15, 18, 15, 12, 11, 11, 16, 10,\n",
       "       17, 18, 10, 18, 11, 10, 18, 11, 12, 17, 12, 12, 12, 11, 14, 18, 11,\n",
       "       15, 14, 15, 11, 10, 12, 14, 16, 15, 16, 19, 10, 10, 12, 19, 14, 11,\n",
       "       18, 11, 10, 13, 14, 19, 11, 18, 12, 18, 10, 18, 11, 12, 19, 13, 16,\n",
       "       13, 11, 18, 10, 15, 17, 18, 13, 14, 18, 14, 13, 12, 15, 15, 13, 11,\n",
       "       12, 13, 16, 18, 15, 18, 12, 16, 18, 12, 19, 15, 15, 18, 13, 17, 10,\n",
       "       10, 14, 13, 13, 14, 15, 15, 12, 14, 17, 19, 15, 19, 13, 16, 12, 16,\n",
       "       14, 16, 19, 14, 14, 18, 12, 15, 13, 15, 17, 16, 18, 12, 17, 19, 14,\n",
       "       12, 15, 18, 17, 13, 11, 14, 13, 15, 16, 11, 19, 15, 17, 16, 19, 17,\n",
       "       15, 11, 16, 15, 17, 10, 11, 17, 18, 13, 18, 17, 14, 14, 13, 13, 18,\n",
       "       15, 12, 13, 18, 13, 17, 16, 11, 13, 16, 16, 18, 16, 12, 16, 18, 15,\n",
       "       15, 10, 15, 10, 15, 10, 16, 16, 19, 19, 13, 19, 19, 12, 19, 13, 13,\n",
       "       16, 12, 18, 14, 19, 10, 17, 18, 10, 11, 14, 17, 13, 16, 17, 18, 16,\n",
       "       10, 19, 17, 16, 14, 13, 15, 19, 14, 10, 18, 11, 18, 10, 17, 19, 18,\n",
       "       13, 18, 12, 16, 14, 11, 14, 14, 18, 17, 13, 18, 16, 10, 11, 15, 15,\n",
       "       12, 16, 16, 10, 19, 17, 15, 17, 10, 15, 11, 14, 17, 15, 19, 12, 14,\n",
       "       16, 16, 18, 15, 11, 14, 15, 17, 11, 11, 12, 18, 15, 18, 13, 17, 14,\n",
       "       12, 10, 12, 15, 16, 12, 11, 15, 11, 15, 16, 12, 19, 12, 18, 14, 15,\n",
       "       14, 11, 10, 14, 15, 18, 16, 13, 11, 16, 14, 12, 17, 10, 17, 12, 13,\n",
       "       12, 11, 14, 14, 10, 15, 10, 16, 16, 15, 19, 17, 10, 17, 15, 18, 19,\n",
       "       13, 11, 10, 16, 16, 19, 13, 19, 10, 11, 13, 19, 18, 16, 14, 15, 19,\n",
       "       15, 11, 16, 17, 10, 11, 10, 11, 14, 19, 10, 15, 19, 12, 18, 13, 10,\n",
       "       16, 13, 18, 18, 14, 16, 19, 16, 18, 16, 16, 17, 15, 15, 18, 19, 19,\n",
       "       15, 11, 17, 18, 12, 13, 16, 12, 14, 10, 18, 17, 10, 14, 11, 18, 18,\n",
       "       12, 14, 15, 11, 12, 11, 12, 11, 11, 14, 17, 12, 16, 11, 13, 11, 18,\n",
       "       11, 14, 13, 15, 14, 12, 18, 16, 15, 18, 17, 19, 12, 11, 17, 16, 17,\n",
       "       17, 14, 17, 10, 11, 16, 16, 19, 14, 15, 16, 18, 19, 15, 10, 14, 10,\n",
       "       15, 11, 18, 15, 10, 18, 18, 16, 13, 17, 15, 16, 16, 12, 16, 17, 18,\n",
       "       18, 14, 16, 13, 10, 10, 14, 13, 15, 15, 18, 17, 10, 19, 18, 11, 14,\n",
       "       11, 13, 15, 16, 11, 13, 13, 13, 19, 10, 19, 15, 10, 10, 16, 16, 13,\n",
       "       14, 17, 10, 13, 10, 13, 18, 15, 10, 17, 14, 11, 10, 18, 12, 12, 17,\n",
       "       11, 15, 19, 14, 13, 11, 13, 19, 17, 15, 15, 10, 10, 17, 13, 11, 16,\n",
       "       11, 16, 15, 19, 11, 17, 12, 19, 18, 17, 12, 14, 10, 11, 16, 17, 14,\n",
       "       16, 19, 14, 12, 18, 13, 10, 15, 17, 16, 12, 17, 11, 14, 10, 10, 11,\n",
       "       16, 15, 14, 12, 12, 18, 18, 14, 14, 14, 12, 16, 12, 12, 13, 14, 14,\n",
       "       16, 15, 13, 11, 19, 14, 15, 16, 13, 14, 18, 16, 14, 16, 16, 12, 13,\n",
       "       12, 19, 17, 16, 16, 19, 13, 18, 12, 13, 10, 13, 18, 19, 12, 12, 15,\n",
       "       13, 17, 14, 17, 10, 15, 17, 10, 14, 10, 18, 12, 14, 12])"
      ]
     },
     "execution_count": 46,
     "metadata": {},
     "output_type": "execute_result"
    }
   ],
   "source": [
    "population"
   ]
  },
  {
   "cell_type": "code",
   "execution_count": 49,
   "id": "f948ca2a",
   "metadata": {},
   "outputs": [
    {
     "data": {
      "text/plain": [
       "14.522"
      ]
     },
     "execution_count": 49,
     "metadata": {},
     "output_type": "execute_result"
    }
   ],
   "source": [
    "mean = np.mean(population)\n",
    "mean"
   ]
  },
  {
   "cell_type": "code",
   "execution_count": 50,
   "id": "10b1bcb3",
   "metadata": {},
   "outputs": [
    {
     "data": {
      "text/plain": [
       "2.8276343469409193"
      ]
     },
     "execution_count": 50,
     "metadata": {},
     "output_type": "execute_result"
    }
   ],
   "source": [
    "std = np.std(population)\n",
    "std"
   ]
  },
  {
   "cell_type": "code",
   "execution_count": 53,
   "id": "784c7b24",
   "metadata": {},
   "outputs": [
    {
     "data": {
      "text/plain": [
       "15.0"
      ]
     },
     "execution_count": 53,
     "metadata": {},
     "output_type": "execute_result"
    }
   ],
   "source": [
    "median = np.median(population)\n",
    "median"
   ]
  },
  {
   "cell_type": "code",
   "execution_count": 69,
   "id": "b696de58",
   "metadata": {},
   "outputs": [
    {
     "data": {
      "text/plain": [
       "18"
      ]
     },
     "execution_count": 69,
     "metadata": {},
     "output_type": "execute_result"
    }
   ],
   "source": [
    "from statistics import mode\n",
    "mode = mode(population)\n",
    "mode"
   ]
  },
  {
   "cell_type": "code",
   "execution_count": 61,
   "id": "cda16561",
   "metadata": {},
   "outputs": [
    {
     "data": {
      "text/plain": [
       "7.995515999999999"
      ]
     },
     "execution_count": 61,
     "metadata": {},
     "output_type": "execute_result"
    }
   ],
   "source": [
    "var = np.var(population)\n",
    "var"
   ]
  },
  {
   "cell_type": "markdown",
   "id": "ca2db344",
   "metadata": {},
   "source": [
    "Sample with size 20"
   ]
  },
  {
   "cell_type": "code",
   "execution_count": 70,
   "id": "635abae5",
   "metadata": {},
   "outputs": [],
   "source": [
    "sample1 = np.random.choice(population,20)"
   ]
  },
  {
   "cell_type": "code",
   "execution_count": 64,
   "id": "ebe4eb4a",
   "metadata": {},
   "outputs": [
    {
     "data": {
      "text/plain": [
       "15.05"
      ]
     },
     "execution_count": 64,
     "metadata": {},
     "output_type": "execute_result"
    }
   ],
   "source": [
    "mean1 = sample1.mean()\n",
    "mean1"
   ]
  },
  {
   "cell_type": "code",
   "execution_count": 81,
   "id": "b03c081b",
   "metadata": {},
   "outputs": [
    {
     "name": "stdout",
     "output_type": "stream",
     "text": [
      "Sample - \n",
      "median -  13.0  mode -  10  variance -  8.61  standard deviation -  2.9342801502242417\n"
     ]
    }
   ],
   "source": [
    "median1 = np.median(sample1)\n",
    "mode1 = mode(sample1)\n",
    "var1 = np.var(sample1)\n",
    "std1 = np.std(sample1)\n",
    "print('Sample - ')\n",
    "print('median - ', median1, ' mode - ', mode1, ' variance - ', var1, ' standard deviation - ', std1)"
   ]
  },
  {
   "cell_type": "code",
   "execution_count": 80,
   "id": "4cf9e46b",
   "metadata": {},
   "outputs": [
    {
     "data": {
      "text/plain": [
       "10"
      ]
     },
     "execution_count": 80,
     "metadata": {},
     "output_type": "execute_result"
    }
   ],
   "source": [
    "mode(sample1)"
   ]
  },
  {
   "cell_type": "markdown",
   "id": "5d6c19bb",
   "metadata": {},
   "source": [
    "Sample with size 50"
   ]
  },
  {
   "cell_type": "code",
   "execution_count": 73,
   "id": "2b6a64a7",
   "metadata": {},
   "outputs": [
    {
     "data": {
      "text/plain": [
       "array([12, 12, 18, 15, 10, 19, 10, 11, 16, 15, 14, 10, 12, 14, 10, 16, 13,\n",
       "       13, 13, 16, 17, 17, 12, 17, 13, 17, 15, 15, 18, 15, 18, 11, 14, 17,\n",
       "       13, 16, 19, 17, 18, 10, 18, 17, 16, 14, 17, 16, 10, 16, 16, 11])"
      ]
     },
     "execution_count": 73,
     "metadata": {},
     "output_type": "execute_result"
    }
   ],
   "source": [
    "sample3 = np.random.choice(population, 50)\n",
    "sample3"
   ]
  },
  {
   "cell_type": "code",
   "execution_count": 75,
   "id": "087a8a49",
   "metadata": {},
   "outputs": [
    {
     "data": {
      "text/plain": [
       "14.58"
      ]
     },
     "execution_count": 75,
     "metadata": {},
     "output_type": "execute_result"
    }
   ],
   "source": [
    "mean3 = np.mean(sample3) #Population - 14.522\n",
    "mean3"
   ]
  },
  {
   "cell_type": "code",
   "execution_count": 76,
   "id": "c07dae57",
   "metadata": {},
   "outputs": [
    {
     "data": {
      "text/plain": [
       "15.0"
      ]
     },
     "execution_count": 76,
     "metadata": {},
     "output_type": "execute_result"
    }
   ],
   "source": [
    "median3 = np.median(sample3) #Population - 15\n",
    "median3"
   ]
  },
  {
   "cell_type": "code",
   "execution_count": 79,
   "id": "3366f2a3",
   "metadata": {},
   "outputs": [
    {
     "data": {
      "text/plain": [
       "16"
      ]
     },
     "execution_count": 79,
     "metadata": {},
     "output_type": "execute_result"
    }
   ],
   "source": [
    "mode3 = mode(sample3)\n",
    "mode3"
   ]
  },
  {
   "cell_type": "markdown",
   "id": "84bd5d11",
   "metadata": {},
   "source": [
    "As sample size increases, the values are closer to the population values"
   ]
  },
  {
   "cell_type": "code",
   "execution_count": 82,
   "id": "cc645694",
   "metadata": {},
   "outputs": [],
   "source": [
    "import pandas as pd"
   ]
  },
  {
   "cell_type": "code",
   "execution_count": 83,
   "id": "ca44b30b",
   "metadata": {},
   "outputs": [],
   "source": [
    "df1 = pd.DataFrame(dict(id = range(6), age = np.random.randint(18,31,size = 6)))"
   ]
  },
  {
   "cell_type": "code",
   "execution_count": 84,
   "id": "12f9f7fb",
   "metadata": {},
   "outputs": [
    {
     "data": {
      "text/html": [
       "<div>\n",
       "<style scoped>\n",
       "    .dataframe tbody tr th:only-of-type {\n",
       "        vertical-align: middle;\n",
       "    }\n",
       "\n",
       "    .dataframe tbody tr th {\n",
       "        vertical-align: top;\n",
       "    }\n",
       "\n",
       "    .dataframe thead th {\n",
       "        text-align: right;\n",
       "    }\n",
       "</style>\n",
       "<table border=\"1\" class=\"dataframe\">\n",
       "  <thead>\n",
       "    <tr style=\"text-align: right;\">\n",
       "      <th></th>\n",
       "      <th>id</th>\n",
       "      <th>age</th>\n",
       "    </tr>\n",
       "  </thead>\n",
       "  <tbody>\n",
       "    <tr>\n",
       "      <th>0</th>\n",
       "      <td>0</td>\n",
       "      <td>29</td>\n",
       "    </tr>\n",
       "    <tr>\n",
       "      <th>1</th>\n",
       "      <td>1</td>\n",
       "      <td>27</td>\n",
       "    </tr>\n",
       "    <tr>\n",
       "      <th>2</th>\n",
       "      <td>2</td>\n",
       "      <td>29</td>\n",
       "    </tr>\n",
       "    <tr>\n",
       "      <th>3</th>\n",
       "      <td>3</td>\n",
       "      <td>18</td>\n",
       "    </tr>\n",
       "    <tr>\n",
       "      <th>4</th>\n",
       "      <td>4</td>\n",
       "      <td>24</td>\n",
       "    </tr>\n",
       "    <tr>\n",
       "      <th>5</th>\n",
       "      <td>5</td>\n",
       "      <td>18</td>\n",
       "    </tr>\n",
       "  </tbody>\n",
       "</table>\n",
       "</div>"
      ],
      "text/plain": [
       "   id  age\n",
       "0   0   29\n",
       "1   1   27\n",
       "2   2   29\n",
       "3   3   18\n",
       "4   4   24\n",
       "5   5   18"
      ]
     },
     "execution_count": 84,
     "metadata": {},
     "output_type": "execute_result"
    }
   ],
   "source": [
    "df1"
   ]
  },
  {
   "cell_type": "code",
   "execution_count": 85,
   "id": "74b213eb",
   "metadata": {},
   "outputs": [
    {
     "data": {
      "text/plain": [
       "24.166666666666668"
      ]
     },
     "execution_count": 85,
     "metadata": {},
     "output_type": "execute_result"
    }
   ],
   "source": [
    "df1.age.mean()"
   ]
  },
  {
   "cell_type": "code",
   "execution_count": 86,
   "id": "33996ae7",
   "metadata": {},
   "outputs": [
    {
     "data": {
      "text/plain": [
       "25.5"
      ]
     },
     "execution_count": 86,
     "metadata": {},
     "output_type": "execute_result"
    }
   ],
   "source": [
    "df1.age.median()"
   ]
  },
  {
   "cell_type": "code",
   "execution_count": 87,
   "id": "3f8a3e48",
   "metadata": {},
   "outputs": [
    {
     "data": {
      "text/plain": [
       "0    18\n",
       "1    29\n",
       "dtype: int32"
      ]
     },
     "execution_count": 87,
     "metadata": {},
     "output_type": "execute_result"
    }
   ],
   "source": [
    "df1.age.mode()"
   ]
  },
  {
   "cell_type": "code",
   "execution_count": 88,
   "id": "24ba4af3",
   "metadata": {},
   "outputs": [
    {
     "data": {
      "text/plain": [
       "26.166666666666668"
      ]
     },
     "execution_count": 88,
     "metadata": {},
     "output_type": "execute_result"
    }
   ],
   "source": [
    "df1.age.var()"
   ]
  },
  {
   "cell_type": "code",
   "execution_count": 89,
   "id": "dc5bd73e",
   "metadata": {},
   "outputs": [
    {
     "data": {
      "text/plain": [
       "5.115336417740935"
      ]
     },
     "execution_count": 89,
     "metadata": {},
     "output_type": "execute_result"
    }
   ],
   "source": [
    "df1.age.std()"
   ]
  },
  {
   "cell_type": "code",
   "execution_count": 90,
   "id": "908e1dc1",
   "metadata": {},
   "outputs": [
    {
     "data": {
      "text/plain": [
       "29"
      ]
     },
     "execution_count": 90,
     "metadata": {},
     "output_type": "execute_result"
    }
   ],
   "source": [
    "df1.age.max()"
   ]
  },
  {
   "cell_type": "code",
   "execution_count": 91,
   "id": "f3c90941",
   "metadata": {},
   "outputs": [
    {
     "data": {
      "text/plain": [
       "18"
      ]
     },
     "execution_count": 91,
     "metadata": {},
     "output_type": "execute_result"
    }
   ],
   "source": [
    "df1.age.min()"
   ]
  },
  {
   "cell_type": "code",
   "execution_count": 92,
   "id": "631723b2",
   "metadata": {},
   "outputs": [
    {
     "data": {
      "text/plain": [
       "-0.4940806094915673"
      ]
     },
     "execution_count": 92,
     "metadata": {},
     "output_type": "execute_result"
    }
   ],
   "source": [
    "df1.age.skew()"
   ]
  },
  {
   "cell_type": "code",
   "execution_count": 93,
   "id": "c6ff5020",
   "metadata": {},
   "outputs": [
    {
     "data": {
      "text/plain": [
       "-2.111355430240578"
      ]
     },
     "execution_count": 93,
     "metadata": {},
     "output_type": "execute_result"
    }
   ],
   "source": [
    "df1.age.kurtosis()"
   ]
  },
  {
   "cell_type": "code",
   "execution_count": null,
   "id": "7de559c4",
   "metadata": {},
   "outputs": [],
   "source": []
  }
 ],
 "metadata": {
  "kernelspec": {
   "display_name": "Python 3",
   "language": "python",
   "name": "python3"
  },
  "language_info": {
   "codemirror_mode": {
    "name": "ipython",
    "version": 3
   },
   "file_extension": ".py",
   "mimetype": "text/x-python",
   "name": "python",
   "nbconvert_exporter": "python",
   "pygments_lexer": "ipython3",
   "version": "3.8.8"
  }
 },
 "nbformat": 4,
 "nbformat_minor": 5
}
