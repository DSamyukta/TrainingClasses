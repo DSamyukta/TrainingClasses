{
 "cells": [
  {
   "cell_type": "code",
   "execution_count": 1,
   "id": "93d1c52a",
   "metadata": {},
   "outputs": [],
   "source": [
    "import numpy as np"
   ]
  },
  {
   "cell_type": "code",
   "execution_count": 5,
   "id": "3d5a2753",
   "metadata": {},
   "outputs": [
    {
     "data": {
      "text/plain": [
       "[array([ 0.23969971, -1.62298693, -1.34147426, -0.17831604, -1.06854523,\n",
       "         1.75792092, -1.03473126, -0.75309877, -0.08508525,  0.7089899 ]),\n",
       " array([ 1.11054554, -1.06196382, -0.68481263,  0.33568193, -1.8658846 ,\n",
       "         0.44116643, -0.58531696, -1.10693728, -1.04782453, -0.15446181]),\n",
       " array([ 0.21629375, -0.07112896,  0.63916257, -0.58957455,  0.13293744,\n",
       "         0.23739719,  1.44549291, -1.65599647, -0.14631544, -0.86882865]),\n",
       " array([-1.14978494,  1.49708988,  0.65967588,  1.04160911, -0.31273904,\n",
       "         1.17508155,  0.16727118,  1.31730832,  0.13980406, -0.10715131]),\n",
       " array([ 1.14683739, -0.97899269,  0.46517218,  1.04685971, -0.59302882,\n",
       "        -0.56354755, -0.17713156,  0.31607051,  0.70622179,  0.60859697]),\n",
       " array([ 0.79649256, -2.18708846, -2.10849664,  0.75206259,  1.89845643,\n",
       "         0.62101773,  0.06498175,  1.4931699 , -1.95591035,  1.07910628]),\n",
       " array([-0.0137632 ,  0.65232787,  1.01834502, -0.52029276, -0.12587201,\n",
       "         0.17781231,  0.64727967,  0.74921791,  0.35047338,  0.03300452]),\n",
       " array([-0.2345549 , -1.26844915,  0.96734738, -0.62259333,  0.1579358 ,\n",
       "        -1.32999762,  0.56500179,  1.9274525 , -0.25982985,  0.41966922]),\n",
       " array([-1.41012916, -0.34386673,  0.34193337, -0.46999063, -0.25133826,\n",
       "        -0.19253969, -0.5281063 , -0.59878217, -0.1813292 , -1.20255588]),\n",
       " array([ 0.75463306, -1.21500696,  1.58539981,  0.49474171,  0.71673168,\n",
       "        -0.53763725, -2.17948466, -0.35831897, -0.91896184, -0.64198267])]"
      ]
     },
     "execution_count": 5,
     "metadata": {},
     "output_type": "execute_result"
    }
   ],
   "source": [
    "x = []\n",
    "for i in range(0, 1000, 100):\n",
    "    x.append(np.random.randn(0,1))\n",
    "x"
   ]
  },
  {
   "cell_type": "code",
   "execution_count": 37,
   "id": "6c5a449c",
   "metadata": {},
   "outputs": [
    {
     "data": {
      "text/plain": [
       "[0, 0, 0, 0, 1, 1, 1, 1, 0, 0]"
      ]
     },
     "execution_count": 37,
     "metadata": {},
     "output_type": "execute_result"
    }
   ],
   "source": [
    "random_num = []\n",
    "for i in np.random.rand(10):\n",
    "    random_num.append(round(i))\n",
    "random_num"
   ]
  },
  {
   "cell_type": "code",
   "execution_count": 38,
   "id": "bca6d7d6",
   "metadata": {},
   "outputs": [
    {
     "name": "stdout",
     "output_type": "stream",
     "text": [
      "4 0.4\n"
     ]
    }
   ],
   "source": [
    "count = 0\n",
    "for i in random_num:\n",
    "    if i == 1:\n",
    "        count += 1\n",
    "print(count, count/10)\n",
    "np.mean(random_num)"
   ]
  },
  {
   "cell_type": "code",
   "execution_count": 40,
   "id": "bf7a9829",
   "metadata": {},
   "outputs": [
    {
     "data": {
      "text/plain": [
       "0.48989794855663565"
      ]
     },
     "execution_count": 40,
     "metadata": {},
     "output_type": "execute_result"
    }
   ],
   "source": [
    "np.std(random_num)"
   ]
  },
  {
   "cell_type": "code",
   "execution_count": 28,
   "id": "ee5d9b5d",
   "metadata": {},
   "outputs": [],
   "source": [
    "random_num = []\n",
    "for i in np.random.rand(100):\n",
    "    random_num.append(round(i))"
   ]
  },
  {
   "cell_type": "code",
   "execution_count": 29,
   "id": "5de7f231",
   "metadata": {},
   "outputs": [
    {
     "name": "stdout",
     "output_type": "stream",
     "text": [
      "58 0.58\n"
     ]
    }
   ],
   "source": [
    "count = 0\n",
    "for i in random_num:\n",
    "    if i == 1:\n",
    "        count += 1\n",
    "print(count, count/100)"
   ]
  },
  {
   "cell_type": "code",
   "execution_count": 30,
   "id": "920f9a49",
   "metadata": {},
   "outputs": [],
   "source": [
    "random_num = []\n",
    "for i in np.random.rand(1000):\n",
    "    random_num.append(round(i))\n"
   ]
  },
  {
   "cell_type": "code",
   "execution_count": 31,
   "id": "862b1e28",
   "metadata": {},
   "outputs": [
    {
     "name": "stdout",
     "output_type": "stream",
     "text": [
      "491 0.491\n"
     ]
    }
   ],
   "source": [
    "count = 0\n",
    "for i in random_num:\n",
    "    if i == 1:\n",
    "        count += 1\n",
    "print(count, count/1000)"
   ]
  },
  {
   "cell_type": "code",
   "execution_count": 25,
   "id": "fb3be977",
   "metadata": {},
   "outputs": [
    {
     "name": "stdout",
     "output_type": "stream",
     "text": [
      "50130 0.5013\n"
     ]
    }
   ],
   "source": [
    "random_num = []\n",
    "for i in np.random.rand(100000):\n",
    "    random_num.append(round(i))\n",
    "count = 0\n",
    "for i in random_num:\n",
    "    if i == 1:\n",
    "        count += 1\n",
    "print(count, count/100000)"
   ]
  },
  {
   "cell_type": "markdown",
   "id": "330ac156",
   "metadata": {},
   "source": [
    "As sample size increases; accuracy increases"
   ]
  },
  {
   "cell_type": "code",
   "execution_count": 32,
   "id": "8b1bf38a",
   "metadata": {},
   "outputs": [
    {
     "name": "stdout",
     "output_type": "stream",
     "text": [
      "5000391 0.5000391\n"
     ]
    }
   ],
   "source": [
    "random_num = []\n",
    "for i in np.random.rand(10000000):\n",
    "    random_num.append(round(i))\n",
    "count = 0\n",
    "for i in random_num:\n",
    "    if i == 1:\n",
    "        count += 1\n",
    "print(count, count/10000000)"
   ]
  },
  {
   "cell_type": "markdown",
   "id": "c3ab8722",
   "metadata": {},
   "source": [
    "### Populations vs Sample"
   ]
  },
  {
   "cell_type": "code",
   "execution_count": 45,
   "id": "a1431523",
   "metadata": {},
   "outputs": [],
   "source": [
    "population = np.random.randint(10,20,1000) # start,stop,no_of_numbers"
   ]
  },
  {
   "cell_type": "code",
   "execution_count": 46,
   "id": "1f7b4a61",
   "metadata": {},
   "outputs": [
    {
     "data": {
      "text/plain": [
       "array([11, 13, 15, 16, 15, 14, 18, 18, 15, 17, 10, 14, 16, 17, 14, 17, 10,\n",
       "       15, 13, 19, 11, 12, 11, 12, 12, 14, 10, 18, 14, 10, 17, 10, 14, 11,\n",
       "       18, 11, 16, 13, 14, 16, 11, 19, 17, 14, 17, 19, 14, 19, 19, 11, 17,\n",
       "       10, 18, 10, 11, 13, 18, 15, 13, 12, 16, 16, 15, 19, 18, 11, 14, 19,\n",
       "       16, 18, 11, 17, 14, 15, 14, 17, 14, 13, 14, 19, 15, 13, 14, 12, 16,\n",
       "       10, 14, 16, 13, 15, 19, 19, 12, 16, 14, 11, 13, 13, 15, 15, 17, 12,\n",
       "       16, 12, 18, 13, 13, 15, 18, 16, 10, 18, 17, 14, 19, 15, 12, 19, 17,\n",
       "       19, 15, 19, 18, 14, 10, 18, 15, 12, 11, 19, 13, 16, 18, 13, 15, 19,\n",
       "       14, 16, 19, 15, 11, 15, 13, 19, 17, 15, 12, 19, 17, 16, 19, 10, 19,\n",
       "       10, 15, 13, 17, 19, 10, 10, 17, 17, 19, 10, 17, 17, 17, 18, 14, 11,\n",
       "       10, 16, 19, 18, 14, 10, 18, 17, 11, 17, 12, 10, 16, 11, 15, 17, 18,\n",
       "       14, 11, 17, 16, 18, 16, 17, 15, 15, 13, 13, 16, 18, 17, 19, 14, 19,\n",
       "       18, 10, 18, 18, 10, 11, 17, 14, 15, 19, 15, 10, 18, 16, 19, 18, 13,\n",
       "       11, 14, 18, 11, 17, 10, 18, 14, 10, 12, 17, 13, 10, 18, 18, 15, 16,\n",
       "       10, 16, 17, 18, 10, 13, 13, 18, 10, 18, 18, 19, 17, 10, 19, 16, 11,\n",
       "       17, 10, 11, 18, 15, 11, 12, 15, 11, 10, 11, 17, 11, 18, 10, 14, 14,\n",
       "       13, 15, 10, 10, 12, 13, 13, 15, 12, 13, 15, 12, 15, 12, 14, 14, 10,\n",
       "       17, 12, 16, 17, 13, 16, 13, 11, 18, 14, 16, 16, 16, 19, 13, 10, 18,\n",
       "       12, 13, 10, 19, 11, 15, 17, 12, 18, 16, 15, 11, 13, 13, 11, 11, 13,\n",
       "       10, 15, 16, 16, 13, 18, 18, 16, 10, 17, 10, 11, 11, 14, 17, 10, 15,\n",
       "       13, 19, 12, 10, 12, 16, 19, 14, 18, 10, 14, 15, 11, 18, 14, 11, 16,\n",
       "       17, 17, 13, 16, 17, 13, 12, 15, 17, 15, 18, 15, 12, 11, 11, 16, 10,\n",
       "       17, 18, 10, 18, 11, 10, 18, 11, 12, 17, 12, 12, 12, 11, 14, 18, 11,\n",
       "       15, 14, 15, 11, 10, 12, 14, 16, 15, 16, 19, 10, 10, 12, 19, 14, 11,\n",
       "       18, 11, 10, 13, 14, 19, 11, 18, 12, 18, 10, 18, 11, 12, 19, 13, 16,\n",
       "       13, 11, 18, 10, 15, 17, 18, 13, 14, 18, 14, 13, 12, 15, 15, 13, 11,\n",
       "       12, 13, 16, 18, 15, 18, 12, 16, 18, 12, 19, 15, 15, 18, 13, 17, 10,\n",
       "       10, 14, 13, 13, 14, 15, 15, 12, 14, 17, 19, 15, 19, 13, 16, 12, 16,\n",
       "       14, 16, 19, 14, 14, 18, 12, 15, 13, 15, 17, 16, 18, 12, 17, 19, 14,\n",
       "       12, 15, 18, 17, 13, 11, 14, 13, 15, 16, 11, 19, 15, 17, 16, 19, 17,\n",
       "       15, 11, 16, 15, 17, 10, 11, 17, 18, 13, 18, 17, 14, 14, 13, 13, 18,\n",
       "       15, 12, 13, 18, 13, 17, 16, 11, 13, 16, 16, 18, 16, 12, 16, 18, 15,\n",
       "       15, 10, 15, 10, 15, 10, 16, 16, 19, 19, 13, 19, 19, 12, 19, 13, 13,\n",
       "       16, 12, 18, 14, 19, 10, 17, 18, 10, 11, 14, 17, 13, 16, 17, 18, 16,\n",
       "       10, 19, 17, 16, 14, 13, 15, 19, 14, 10, 18, 11, 18, 10, 17, 19, 18,\n",
       "       13, 18, 12, 16, 14, 11, 14, 14, 18, 17, 13, 18, 16, 10, 11, 15, 15,\n",
       "       12, 16, 16, 10, 19, 17, 15, 17, 10, 15, 11, 14, 17, 15, 19, 12, 14,\n",
       "       16, 16, 18, 15, 11, 14, 15, 17, 11, 11, 12, 18, 15, 18, 13, 17, 14,\n",
       "       12, 10, 12, 15, 16, 12, 11, 15, 11, 15, 16, 12, 19, 12, 18, 14, 15,\n",
       "       14, 11, 10, 14, 15, 18, 16, 13, 11, 16, 14, 12, 17, 10, 17, 12, 13,\n",
       "       12, 11, 14, 14, 10, 15, 10, 16, 16, 15, 19, 17, 10, 17, 15, 18, 19,\n",
       "       13, 11, 10, 16, 16, 19, 13, 19, 10, 11, 13, 19, 18, 16, 14, 15, 19,\n",
       "       15, 11, 16, 17, 10, 11, 10, 11, 14, 19, 10, 15, 19, 12, 18, 13, 10,\n",
       "       16, 13, 18, 18, 14, 16, 19, 16, 18, 16, 16, 17, 15, 15, 18, 19, 19,\n",
       "       15, 11, 17, 18, 12, 13, 16, 12, 14, 10, 18, 17, 10, 14, 11, 18, 18,\n",
       "       12, 14, 15, 11, 12, 11, 12, 11, 11, 14, 17, 12, 16, 11, 13, 11, 18,\n",
       "       11, 14, 13, 15, 14, 12, 18, 16, 15, 18, 17, 19, 12, 11, 17, 16, 17,\n",
       "       17, 14, 17, 10, 11, 16, 16, 19, 14, 15, 16, 18, 19, 15, 10, 14, 10,\n",
       "       15, 11, 18, 15, 10, 18, 18, 16, 13, 17, 15, 16, 16, 12, 16, 17, 18,\n",
       "       18, 14, 16, 13, 10, 10, 14, 13, 15, 15, 18, 17, 10, 19, 18, 11, 14,\n",
       "       11, 13, 15, 16, 11, 13, 13, 13, 19, 10, 19, 15, 10, 10, 16, 16, 13,\n",
       "       14, 17, 10, 13, 10, 13, 18, 15, 10, 17, 14, 11, 10, 18, 12, 12, 17,\n",
       "       11, 15, 19, 14, 13, 11, 13, 19, 17, 15, 15, 10, 10, 17, 13, 11, 16,\n",
       "       11, 16, 15, 19, 11, 17, 12, 19, 18, 17, 12, 14, 10, 11, 16, 17, 14,\n",
       "       16, 19, 14, 12, 18, 13, 10, 15, 17, 16, 12, 17, 11, 14, 10, 10, 11,\n",
       "       16, 15, 14, 12, 12, 18, 18, 14, 14, 14, 12, 16, 12, 12, 13, 14, 14,\n",
       "       16, 15, 13, 11, 19, 14, 15, 16, 13, 14, 18, 16, 14, 16, 16, 12, 13,\n",
       "       12, 19, 17, 16, 16, 19, 13, 18, 12, 13, 10, 13, 18, 19, 12, 12, 15,\n",
       "       13, 17, 14, 17, 10, 15, 17, 10, 14, 10, 18, 12, 14, 12])"
      ]
     },
     "execution_count": 46,
     "metadata": {},
     "output_type": "execute_result"
    }
   ],
   "source": [
    "population"
   ]
  },
  {
   "cell_type": "code",
   "execution_count": 49,
   "id": "651d5ee4",
   "metadata": {},
   "outputs": [
    {
     "data": {
      "text/plain": [
       "14.522"
      ]
     },
     "execution_count": 49,
     "metadata": {},
     "output_type": "execute_result"
    }
   ],
   "source": [
    "mean = np.mean(population)\n",
    "mean"
   ]
  },
  {
   "cell_type": "code",
   "execution_count": 50,
   "id": "0f66c24d",
   "metadata": {},
   "outputs": [
    {
     "data": {
      "text/plain": [
       "2.8276343469409193"
      ]
     },
     "execution_count": 50,
     "metadata": {},
     "output_type": "execute_result"
    }
   ],
   "source": [
    "std = np.std(population)\n",
    "std"
   ]
  },
  {
   "cell_type": "code",
   "execution_count": 53,
   "id": "d38abdf1",
   "metadata": {},
   "outputs": [
    {
     "data": {
      "text/plain": [
       "15.0"
      ]
     },
     "execution_count": 53,
     "metadata": {},
     "output_type": "execute_result"
    }
   ],
   "source": [
    "median = np.median(population)\n",
    "median"
   ]
  },
  {
   "cell_type": "code",
   "execution_count": 69,
   "id": "662e9969",
   "metadata": {},
   "outputs": [
    {
     "data": {
      "text/plain": [
       "18"
      ]
     },
     "execution_count": 69,
     "metadata": {},
     "output_type": "execute_result"
    }
   ],
   "source": [
    "from statistics import mode\n",
    "mode = mode(population)\n",
    "mode"
   ]
  },
  {
   "cell_type": "code",
   "execution_count": 61,
   "id": "7e25d57d",
   "metadata": {},
   "outputs": [
    {
     "data": {
      "text/plain": [
       "7.995515999999999"
      ]
     },
     "execution_count": 61,
     "metadata": {},
     "output_type": "execute_result"
    }
   ],
   "source": [
    "var = np.var(population)\n",
    "var"
   ]
  },
  {
   "cell_type": "markdown",
   "id": "328ff2ad",
   "metadata": {},
   "source": [
    "Sample with size 20"
   ]
  },
  {
   "cell_type": "code",
   "execution_count": 70,
   "id": "42a2c55f",
   "metadata": {},
   "outputs": [],
   "source": [
    "sample1 = np.random.choice(population,20)"
   ]
  },
  {
   "cell_type": "code",
   "execution_count": 64,
   "id": "f766b4ce",
   "metadata": {},
   "outputs": [
    {
     "data": {
      "text/plain": [
       "15.05"
      ]
     },
     "execution_count": 64,
     "metadata": {},
     "output_type": "execute_result"
    }
   ],
   "source": [
    "mean1 = sample1.mean()\n",
    "mean1"
   ]
  },
  {
   "cell_type": "code",
   "execution_count": 81,
   "id": "70277669",
   "metadata": {},
   "outputs": [
    {
     "name": "stdout",
     "output_type": "stream",
     "text": [
      "Sample - \n",
      "median -  13.0  mode -  10  variance -  8.61  standard deviation -  2.9342801502242417\n"
     ]
    }
   ],
   "source": [
    "median1 = np.median(sample1)\n",
    "mode1 = mode(sample1)\n",
    "var1 = np.var(sample1)\n",
    "std1 = np.std(sample1)\n",
    "print('Sample - ')\n",
    "print('median - ', median1, ' mode - ', mode1, ' variance - ', var1, ' standard deviation - ', std1)"
   ]
  },
  {
   "cell_type": "code",
   "execution_count": 80,
   "id": "a72c72b6",
   "metadata": {},
   "outputs": [
    {
     "data": {
      "text/plain": [
       "10"
      ]
     },
     "execution_count": 80,
     "metadata": {},
     "output_type": "execute_result"
    }
   ],
   "source": [
    "mode(sample1)"
   ]
  },
  {
   "cell_type": "markdown",
   "id": "12406701",
   "metadata": {},
   "source": [
    "Sample with size 50"
   ]
  },
  {
   "cell_type": "code",
   "execution_count": 73,
   "id": "8a43673e",
   "metadata": {},
   "outputs": [
    {
     "data": {
      "text/plain": [
       "array([12, 12, 18, 15, 10, 19, 10, 11, 16, 15, 14, 10, 12, 14, 10, 16, 13,\n",
       "       13, 13, 16, 17, 17, 12, 17, 13, 17, 15, 15, 18, 15, 18, 11, 14, 17,\n",
       "       13, 16, 19, 17, 18, 10, 18, 17, 16, 14, 17, 16, 10, 16, 16, 11])"
      ]
     },
     "execution_count": 73,
     "metadata": {},
     "output_type": "execute_result"
    }
   ],
   "source": [
    "sample3 = np.random.choice(population, 50)\n",
    "sample3"
   ]
  },
  {
   "cell_type": "code",
   "execution_count": 75,
   "id": "caae2ccc",
   "metadata": {},
   "outputs": [
    {
     "data": {
      "text/plain": [
       "14.58"
      ]
     },
     "execution_count": 75,
     "metadata": {},
     "output_type": "execute_result"
    }
   ],
   "source": [
    "mean3 = np.mean(sample3) #Population - 14.522\n",
    "mean3"
   ]
  },
  {
   "cell_type": "code",
   "execution_count": 76,
   "id": "d9791d4d",
   "metadata": {},
   "outputs": [
    {
     "data": {
      "text/plain": [
       "15.0"
      ]
     },
     "execution_count": 76,
     "metadata": {},
     "output_type": "execute_result"
    }
   ],
   "source": [
    "median3 = np.median(sample3) #Population - 15\n",
    "median3"
   ]
  },
  {
   "cell_type": "code",
   "execution_count": 79,
   "id": "82711375",
   "metadata": {},
   "outputs": [
    {
     "data": {
      "text/plain": [
       "16"
      ]
     },
     "execution_count": 79,
     "metadata": {},
     "output_type": "execute_result"
    }
   ],
   "source": [
    "mode3 = mode(sample3)\n",
    "mode3"
   ]
  },
  {
   "cell_type": "markdown",
   "id": "f61f8ca7",
   "metadata": {},
   "source": [
    "As sample size increases, the values are closer to the population values"
   ]
  },
  {
   "cell_type": "code",
   "execution_count": null,
   "id": "0dd0b18a",
   "metadata": {},
   "outputs": [],
   "source": []
  }
 ],
 "metadata": {
  "kernelspec": {
   "display_name": "Python 3",
   "language": "python",
   "name": "python3"
  },
  "language_info": {
   "codemirror_mode": {
    "name": "ipython",
    "version": 3
   },
   "file_extension": ".py",
   "mimetype": "text/x-python",
   "name": "python",
   "nbconvert_exporter": "python",
   "pygments_lexer": "ipython3",
   "version": "3.8.8"
  }
 },
 "nbformat": 4,
 "nbformat_minor": 5
}
