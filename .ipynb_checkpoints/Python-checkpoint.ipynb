{
 "cells": [
  {
   "cell_type": "code",
   "execution_count": 31,
   "id": "0e9bcbda",
   "metadata": {},
   "outputs": [],
   "source": [
    "f = open(\"CountriesList.txt\", 'r')"
   ]
  },
  {
   "cell_type": "code",
   "execution_count": 23,
   "id": "8bead4d5",
   "metadata": {},
   "outputs": [
    {
     "data": {
      "text/plain": [
       "<_io.TextIOWrapper name='CountriesList.txt' mode='r' encoding='cp1252'>"
      ]
     },
     "execution_count": 23,
     "metadata": {},
     "output_type": "execute_result"
    }
   ],
   "source": [
    "f"
   ]
  },
  {
   "cell_type": "code",
   "execution_count": 24,
   "id": "c8182a92",
   "metadata": {},
   "outputs": [],
   "source": [
    "data = f.read()"
   ]
  },
  {
   "cell_type": "code",
   "execution_count": 25,
   "id": "6c7c7e0b",
   "metadata": {},
   "outputs": [
    {
     "name": "stdout",
     "output_type": "stream",
     "text": [
      "Africa\n",
      "Afghanistan\n",
      "India\n",
      "Angola\n"
     ]
    }
   ],
   "source": [
    "print(data)"
   ]
  },
  {
   "cell_type": "code",
   "execution_count": 32,
   "id": "a38458a0",
   "metadata": {},
   "outputs": [],
   "source": [
    "data = f.readlines(0)"
   ]
  },
  {
   "cell_type": "code",
   "execution_count": 33,
   "id": "4fa43c00",
   "metadata": {},
   "outputs": [
    {
     "name": "stdout",
     "output_type": "stream",
     "text": [
      "['Africa\\n', 'Afghanistan\\n', 'India\\n', 'Angola']\n"
     ]
    }
   ],
   "source": [
    "print(data)"
   ]
  },
  {
   "cell_type": "code",
   "execution_count": 34,
   "id": "4e279c5f",
   "metadata": {},
   "outputs": [
    {
     "name": "stdout",
     "output_type": "stream",
     "text": [
      "Africa\n",
      "\n",
      "Afghanistan\n",
      "\n",
      "India\n",
      "\n",
      "Angola\n"
     ]
    }
   ],
   "source": [
    "for i in data:\n",
    "    print(i)"
   ]
  },
  {
   "cell_type": "code",
   "execution_count": 56,
   "id": "4f8a5e76",
   "metadata": {},
   "outputs": [],
   "source": [
    "f = open('NewFile.txt', 'w')"
   ]
  },
  {
   "cell_type": "code",
   "execution_count": 57,
   "id": "47363657",
   "metadata": {},
   "outputs": [],
   "source": [
    "listt = ['Africa', 'India', 'Afghanistan', 'Angola']"
   ]
  },
  {
   "cell_type": "code",
   "execution_count": 45,
   "id": "be619660",
   "metadata": {},
   "outputs": [
    {
     "data": {
      "text/plain": [
       "\"['Africa\\\\n', 'India\\\\n', 'Afghanistan\\\\n', 'Angola\\\\n']\""
      ]
     },
     "execution_count": 45,
     "metadata": {},
     "output_type": "execute_result"
    }
   ],
   "source": [
    "str(listt)"
   ]
  },
  {
   "cell_type": "code",
   "execution_count": 46,
   "id": "0355cd96",
   "metadata": {},
   "outputs": [
    {
     "data": {
      "text/plain": [
       "52"
      ]
     },
     "execution_count": 46,
     "metadata": {},
     "output_type": "execute_result"
    }
   ],
   "source": [
    "f.write(str(listt))"
   ]
  },
  {
   "cell_type": "code",
   "execution_count": 59,
   "id": "425f3fc0",
   "metadata": {},
   "outputs": [],
   "source": [
    "f.close()"
   ]
  },
  {
   "cell_type": "code",
   "execution_count": 58,
   "id": "0c63b903",
   "metadata": {},
   "outputs": [],
   "source": [
    "for i in listt:\n",
    "    f.write(i+'\\n')"
   ]
  },
  {
   "cell_type": "code",
   "execution_count": 60,
   "id": "19ea75c5",
   "metadata": {},
   "outputs": [],
   "source": [
    "f = open('NewFile.txt', 'a')"
   ]
  },
  {
   "cell_type": "code",
   "execution_count": 61,
   "id": "29f9503e",
   "metadata": {},
   "outputs": [],
   "source": [
    "listt2 = ['Aus', 'Albania', 'Italy', 'Paris', 'Argentina', 'Russia']"
   ]
  },
  {
   "cell_type": "code",
   "execution_count": 62,
   "id": "a255d599",
   "metadata": {},
   "outputs": [],
   "source": [
    "for i in listt2:\n",
    "    f.write(i+'\\n')"
   ]
  },
  {
   "cell_type": "code",
   "execution_count": 63,
   "id": "9d7f319b",
   "metadata": {},
   "outputs": [],
   "source": [
    "f.close()"
   ]
  },
  {
   "cell_type": "code",
   "execution_count": 64,
   "id": "d5be9e35",
   "metadata": {},
   "outputs": [],
   "source": [
    "import os"
   ]
  },
  {
   "cell_type": "code",
   "execution_count": 66,
   "id": "9e98fa69",
   "metadata": {},
   "outputs": [
    {
     "name": "stdout",
     "output_type": "stream",
     "text": [
      "['1.txt', '2.txt', '3.txt', 'Sample2']\n"
     ]
    }
   ],
   "source": [
    "print(os.listdir('Sample')) #Will not list out subdirectories "
   ]
  },
  {
   "cell_type": "code",
   "execution_count": 69,
   "id": "756e980b",
   "metadata": {},
   "outputs": [
    {
     "name": "stdout",
     "output_type": "stream",
     "text": [
      "Sample\n",
      "['Sample2']\n",
      "['1.txt', '2.txt', '3.txt']\n",
      "______\n",
      "Sample\\Sample2\n",
      "[]\n",
      "['4.txt', '5.txt', '6.txt']\n",
      "______\n"
     ]
    }
   ],
   "source": [
    "for (root,dirs,files) in os.walk('Sample'):\n",
    "    print(root)\n",
    "    print(dirs)\n",
    "    print(files)\n",
    "    print('______')"
   ]
  },
  {
   "cell_type": "code",
   "execution_count": null,
   "id": "2bf4dcfc",
   "metadata": {},
   "outputs": [],
   "source": []
  }
 ],
 "metadata": {
  "kernelspec": {
   "display_name": "Python 3",
   "language": "python",
   "name": "python3"
  },
  "language_info": {
   "codemirror_mode": {
    "name": "ipython",
    "version": 3
   },
   "file_extension": ".py",
   "mimetype": "text/x-python",
   "name": "python",
   "nbconvert_exporter": "python",
   "pygments_lexer": "ipython3",
   "version": "3.8.8"
  }
 },
 "nbformat": 4,
 "nbformat_minor": 5
}
