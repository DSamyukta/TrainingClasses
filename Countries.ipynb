{
 "cells": [
  {
   "cell_type": "code",
   "execution_count": null,
   "id": "bfb9e58a",
   "metadata": {},
   "outputs": [],
   "source": [
    "key = 'pac'\n",
    "possible = []\n",
    "for country in countries:\n",
    "    country = country.lower()\n",
    "    count = 0\n",
    "    for i, j in zip(key, country):\n",
    "        if i != j:\n",
    "            count += 1\n",
    "    if count <= 1:\n",
    "        print(country)"
   ]
  }
 ],
 "metadata": {
  "kernelspec": {
   "display_name": "Python 3",
   "language": "python",
   "name": "python3"
  },
  "language_info": {
   "codemirror_mode": {
    "name": "ipython",
    "version": 3
   },
   "file_extension": ".py",
   "mimetype": "text/x-python",
   "name": "python",
   "nbconvert_exporter": "python",
   "pygments_lexer": "ipython3",
   "version": "3.8.8"
  }
 },
 "nbformat": 4,
 "nbformat_minor": 5
}
